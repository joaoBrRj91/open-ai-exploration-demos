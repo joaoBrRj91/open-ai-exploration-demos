{
 "cells": [
  {
   "cell_type": "code",
   "execution_count": 1,
   "id": "9d8dbb64",
   "metadata": {},
   "outputs": [],
   "source": [
    "import openai "
   ]
  },
  {
   "cell_type": "code",
   "execution_count": null,
   "id": "b2386660-bf36-4bd0-852c-fc2d460975f0",
   "metadata": {},
   "outputs": [],
   "source": [
    "client = openai.Client()"
   ]
  }
 ],
 "metadata": {
  "kernelspec": {
   "display_name": "Python (venv)",
   "language": "python",
   "name": "venv"
  },
  "language_info": {
   "codemirror_mode": {
    "name": "ipython",
    "version": 3
   },
   "file_extension": ".py",
   "mimetype": "text/x-python",
   "name": "python",
   "nbconvert_exporter": "python",
   "pygments_lexer": "ipython3",
   "version": "3.10.12"
  }
 },
 "nbformat": 4,
 "nbformat_minor": 5
}

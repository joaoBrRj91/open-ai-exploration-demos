{
 "cells": [
  {
   "cell_type": "code",
   "execution_count": 24,
   "id": "e24a5b85",
   "metadata": {},
   "outputs": [],
   "source": [
    "from dotenv import load_dotenv,find_dotenv\n",
    "from openai import OpenAI\n",
    "from operator import attrgetter"
   ]
  },
  {
   "cell_type": "code",
   "execution_count": 25,
   "id": "9d8dbb64",
   "metadata": {},
   "outputs": [],
   "source": [
    "# Carregar as variáveis de ambiente do arquivo .env\n"
   ]
  },
  {
   "cell_type": "code",
   "execution_count": 26,
   "id": "a5f683d9-3f48-4241-9c63-e4eb1ebfc090",
   "metadata": {},
   "outputs": [],
   "source": [
    "_ = load_dotenv(find_dotenv())\n"
   ]
  },
  {
   "cell_type": "code",
   "execution_count": 27,
   "id": "fb32ae46",
   "metadata": {},
   "outputs": [],
   "source": [
    "client = OpenAI()"
   ]
  },
  {
   "cell_type": "code",
   "execution_count": 28,
   "id": "ad755764",
   "metadata": {},
   "outputs": [],
   "source": [
    "response = client.responses.create(\n",
    "    model=\"gpt-3.5-turbo\",\n",
    "    input=\"Write a one-sentence bedtime story about a unicorn.\"\n",
    ")"
   ]
  },
  {
   "cell_type": "code",
   "execution_count": 29,
   "id": "d81a10fd",
   "metadata": {},
   "outputs": [
    {
     "data": {
      "text/plain": [
       "Response(id='resp_6859a549645481999b9cb350f376cb6a034c09eaac0ebb4d', created_at=1750705481.0, error=None, incomplete_details=None, instructions=None, metadata={}, model='gpt-3.5-turbo-0125', object='response', output=[ResponseOutputMessage(id='msg_6859a549e31c8199857a97e39148717f034c09eaac0ebb4d', content=[ResponseOutputText(annotations=[], text='Once upon a time, a gentle unicorn roamed through fields of shimmering stars, bringing sweet dreams to all who gazed upon her magical horn.', type='output_text', logprobs=None)], role='assistant', status='completed', type='message')], parallel_tool_calls=True, temperature=1.0, tool_choice='auto', tools=[], top_p=1.0, background=False, max_output_tokens=None, previous_response_id=None, prompt=None, reasoning=Reasoning(effort=None, generate_summary=None, summary=None), service_tier='default', status='completed', text=ResponseTextConfig(format=ResponseFormatText(type='text')), truncation='disabled', usage=ResponseUsage(input_tokens=18, input_tokens_details=InputTokensDetails(cached_tokens=0), output_tokens=31, output_tokens_details=OutputTokensDetails(reasoning_tokens=0), total_tokens=49), user=None, store=True)"
      ]
     },
     "execution_count": 29,
     "metadata": {},
     "output_type": "execute_result"
    }
   ],
   "source": [
    "response"
   ]
  },
  {
   "cell_type": "code",
   "execution_count": 30,
   "id": "45aa0e4a",
   "metadata": {},
   "outputs": [],
   "source": [
    "id, created_at, output = attrgetter('id', 'created_at', 'output')(response)"
   ]
  },
  {
   "cell_type": "code",
   "execution_count": 31,
   "id": "0f83ab89",
   "metadata": {},
   "outputs": [],
   "source": [
    "id, created_at, output = attrgetter('id', 'created_at', 'output')(response)"
   ]
  },
  {
   "cell_type": "code",
   "execution_count": 38,
   "id": "12ec0ece",
   "metadata": {},
   "outputs": [],
   "source": [
    "role, status = attrgetter('role', 'status')(output[0])\n"
   ]
  }
 ],
 "metadata": {
  "kernelspec": {
   "display_name": "Python 3 (ipykernel)",
   "language": "python",
   "name": "python3"
  },
  "language_info": {
   "codemirror_mode": {
    "name": "ipython",
    "version": 3
   },
   "file_extension": ".py",
   "mimetype": "text/x-python",
   "name": "python",
   "nbconvert_exporter": "python",
   "pygments_lexer": "ipython3",
   "version": "3.10.12"
  }
 },
 "nbformat": 4,
 "nbformat_minor": 5
}
